{
 "cells": [
  {
   "cell_type": "markdown",
   "metadata": {},
   "source": [
    "# 1-D EULER EQUATIONS\n",
    "\n",
    "## This is a Jupyter Notebook plotting simulation output generated with Mara3 (https://github.com/jzrake/Mara3). The simulation evolves a 1-D Shock with zero gradient boundary conditions. \n"
   ]
  },
  {
   "cell_type": "code",
   "execution_count": 164,
   "metadata": {},
   "outputs": [],
   "source": [
    "import h5py\n",
    "import matplotlib.pyplot as plt\n",
    "import matplotlib as mpl\n",
    "import numpy as np\n",
    "import matplotlib.pyplot as plt\n",
    "import glob\n",
    "import os\n",
    "from exact_riemann import riemann, riemann_f"
   ]
  },
  {
   "cell_type": "markdown",
   "metadata": {},
   "source": [
    "## Plot settings "
   ]
  },
  {
   "cell_type": "code",
   "execution_count": 57,
   "metadata": {},
   "outputs": [],
   "source": [
    "# Plotting settings\n",
    "mpl.rc('font', **{'family': 'serif', 'sans-serif': ['Times']})\n",
    "mpl.rc('lines', solid_capstyle='round')\n",
    "mpl.rc('mathtext', fontset='cm')\n",
    "plt.rcParams.update({'grid.alpha': 0.5})\n",
    "mpl.rcParams['font.size'] = 25"
   ]
  },
  {
   "cell_type": "markdown",
   "metadata": {},
   "source": [
    "## In the below we plot the density profile of the shock as it propagates along the grid.\n",
    "## We also compute the exact Riemann solution of this problem to contrast with the numerical solution. We plot both to qualitatively see the effects of numerical diffusion and compare for a range of resolutions. In this step, we also compute the L2 error. Plotting of L2 will happen in the cell below.\n",
    "\n",
    "### The plots, videos and L2 error arrays are stored in figures/res_XXXXX/ "
   ]
  },
  {
   "cell_type": "code",
   "execution_count": 166,
   "metadata": {},
   "outputs": [
    {
     "name": "stdout",
     "output_type": "stream",
     "text": [
      "vary_resolution/res_01600\n",
      "Path already exists:  figures/res_01600/\n"
     ]
    },
    {
     "name": "stderr",
     "output_type": "stream",
     "text": [
      "/Users/magda/gradschool/CCA_summer_school/Mara3/examples/euler_1d/exact_riemann.py:50: RuntimeWarning: divide by zero encountered in true_divide\n",
      "  xi = (X-x0)/float(T)\n"
     ]
    },
    {
     "name": "stdout",
     "output_type": "stream",
     "text": [
      "vary_resolution/res_00050\n",
      "Path already exists:  figures/res_00050/\n",
      "vary_resolution/res_00800\n",
      "Path already exists:  figures/res_00800/\n",
      "vary_resolution/res_00200\n",
      "Path already exists:  figures/res_00200/\n",
      "vary_resolution/res_00100\n",
      "Path already exists:  figures/res_00100/\n",
      "vary_resolution/res_00400\n",
      "Path already exists:  figures/res_00400/\n"
     ]
    }
   ],
   "source": [
    "a = -1\n",
    "b = 1\n",
    "x0 = 0\n",
    "rhoL = 1.\n",
    "rhoR = 0.1\n",
    "PL = 1.\n",
    "PR = 0.125\n",
    "gamma = 1.4\n",
    "vR = 0\n",
    "vL = 0\n",
    "\n",
    "all_fps = glob.glob('vary_resolution/*')\n",
    "for fp in all_fps:\n",
    "    print(fp)\n",
    "    res = fp.split('/')[-1]\n",
    "    dirname = 'figures/' + res + '/'\n",
    "    if os.path.exists(dirname):\n",
    "        print(\"Path already exists: \", dirname)\n",
    "    if not os.path.exists(dirname):\n",
    "        print(\"Path doesn't exist, making new filepath: \", dirname)\n",
    "        os.makedirs(dirname)\n",
    "\n",
    "    for fl in glob.glob(fp + '/*.h5'):\n",
    "        f = h5py.File(fl)\n",
    "        density = []\n",
    "        for j in range(0,len(f['conserved'])):\n",
    "            density.append(f['conserved'][j][0])\n",
    "            \n",
    "        t = f['t'][...]\n",
    "        N = len(f['conserved'])\n",
    "        X, rho, v, P = riemann(a, b, x0, N, t, rhoL, vL, PL, rhoR, vR, PR, gamma)\n",
    "        plt.figure(figsize=(10,7))\n",
    "        plt.title(res + ', t = %.2f' %t)\n",
    "        plt.plot(f['x'], density, label='Numerical')\n",
    "        plt.plot(X, rho, label = 'Exact Riemann')\n",
    "        plt.legend()\n",
    "        plt.ylim([0.,1.2])\n",
    "        plt.savefig(dirname + 'density_plot_%s.png' %fl[-7:-3])\n",
    "        plt.close()\n",
    "    \n",
    "    cmd = 'ffmpeg -r 4 -f image2 -s 1920x1080 -i %sdensity_plot_' %(dirname) + r'%04d.png ' + '-vcodec libx264 -crf 25  -pix_fmt yuv420p %srho_%s.mp4' %(dirname, res)\n",
    "    os.system(cmd)\n"
   ]
  },
  {
   "cell_type": "markdown",
   "metadata": {},
   "source": [
    "## Finally we look at the L2 error as a function of resolution."
   ]
  },
  {
   "cell_type": "code",
   "execution_count": 175,
   "metadata": {},
   "outputs": [
    {
     "data": {
      "text/plain": [
       "Text(0, 0.5, 'L2')"
      ]
     },
     "execution_count": 175,
     "metadata": {},
     "output_type": "execute_result"
    },
    {
     "data": {
      "image/png": "[encoded data removed]",
      "text/plain": [
       "<Figure size 720x504 with 1 Axes>"
      ]
     },
     "metadata": {},
     "output_type": "display_data"
    }
   ],
   "source": [
    "def L2(numerical, exact, dx):\n",
    "    return np.sum((numerical-exact)**2 * dx)\n",
    "\n",
    "a = -1\n",
    "b = 1\n",
    "x0 = 0\n",
    "rhoL = 1.\n",
    "rhoR = 0.1\n",
    "PL = 1.\n",
    "PR = 0.125\n",
    "gamma = 1.4\n",
    "vR = 0\n",
    "vL = 0\n",
    "\n",
    "#Specify a snapshot to look at:\n",
    "i = 25\n",
    "\n",
    "all_fps = glob.glob('vary_resolution/res_*/*%d.h5' %i)\n",
    "\n",
    "resolutions = []\n",
    "L2_error = []\n",
    "\n",
    "for fp in all_fps:\n",
    "    res = fp.split('/')[-2][4:]\n",
    "    resolutions.append(int(res))\n",
    "    f = h5py.File(fp)\n",
    "    \n",
    "    density_numeric = []\n",
    "    for j in range(0,len(f['conserved'])):\n",
    "        density_numeric.append(f['conserved'][j][0])\n",
    "    dx = f['x'][1] - f['x'][0]\n",
    "\n",
    "    t = f['t'][...]\n",
    "    N = len(f['conserved'])\n",
    "    X, density_exact, v, P = riemann(a, b, x0, N, t, rhoL, vL, PL, rhoR, vR, PR, gamma)\n",
    "    \n",
    "    L2_error.append(L2(density_numeric, density_exact, dx))\n",
    "    \n",
    "inds = np.argsort(resolutions)\n",
    "resolutions = np.array(resolutions)[inds]\n",
    "L2_error = np.array(L2_error)[inds]\n",
    "\n",
    "plt.figure(figsize=(10,7))\n",
    "plt.title('L2 Convergence at t = %.2f' %t)\n",
    "plt.loglog(resolutions, L2_error, '*', linestyle = '-')\n",
    "plt.xlabel(\"Resolution\")\n",
    "plt.ylabel(\"L2\")\n",
    "    "
   ]
  },
  {
   "cell_type": "code",
   "execution_count": 150,
   "metadata": {},
   "outputs": [
    {
     "data": {
      "text/plain": [
       "''"
      ]
     },
     "execution_count": 150,
     "metadata": {},
     "output_type": "execute_result"
    }
   ],
   "source": [
    "res"
   ]
  },
  {
   "cell_type": "code",
   "execution_count": 155,
   "metadata": {},
   "outputs": [],
   "source": [
    "res = fp.split('/')[-2][4:]"
   ]
  },
  {
   "cell_type": "code",
   "execution_count": 156,
   "metadata": {},
   "outputs": [
    {
     "data": {
      "text/plain": [
       "400"
      ]
     },
     "execution_count": 156,
     "metadata": {},
     "output_type": "execute_result"
    }
   ],
   "source": [
    "int(res)"
   ]
  },
  {
   "cell_type": "code",
   "execution_count": 160,
   "metadata": {},
   "outputs": [
    {
     "data": {
      "text/plain": [
       "0.010000000000000009"
      ]
     },
     "execution_count": 160,
     "metadata": {},
     "output_type": "execute_result"
    }
   ],
   "source": [
    "f['x'][1] - f['x'][0]"
   ]
  },
  {
   "cell_type": "code",
   "execution_count": null,
   "metadata": {},
   "outputs": [],
   "source": []
  }
 ],
 "metadata": {
  "kernelspec": {
   "display_name": "Python 3",
   "language": "python",
   "name": "python3"
  },
  "language_info": {
   "codemirror_mode": {
    "name": "ipython",
    "version": 3
   },
   "file_extension": ".py",
   "mimetype": "text/x-python",
   "name": "python",
   "nbconvert_exporter": "python",
   "pygments_lexer": "ipython3",
   "version": "3.5.4"
  }
 },
 "nbformat": 4,
 "nbformat_minor": 2
}
